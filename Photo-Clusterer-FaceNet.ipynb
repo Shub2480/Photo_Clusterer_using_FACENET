{
 "cells": [
  {
   "cell_type": "code",
   "execution_count": 1,
   "metadata": {
    "execution": {
     "iopub.execute_input": "2023-03-26T13:59:26.323365Z",
     "iopub.status.busy": "2023-03-26T13:59:26.322941Z",
     "iopub.status.idle": "2023-03-26T13:59:39.630154Z",
     "shell.execute_reply": "2023-03-26T13:59:39.628568Z",
     "shell.execute_reply.started": "2023-03-26T13:59:26.323327Z"
    }
   },
   "outputs": [
    {
     "name": "stdout",
     "output_type": "stream",
     "text": [
      "Collecting mtcnn\n",
      "  Downloading mtcnn-0.1.1-py3-none-any.whl (2.3 MB)\n",
      "Collecting keras>=2.0.0\n",
      "  Downloading keras-2.12.0-py2.py3-none-any.whl (1.7 MB)\n",
      "Collecting opencv-python>=4.1.0\n",
      "  Downloading opencv_python-4.7.0.72-cp37-abi3-win_amd64.whl (38.2 MB)\n",
      "Requirement already satisfied: numpy>=1.17.0 in c:\\users\\shubhams3\\anaconda3\\lib\\site-packages (from opencv-python>=4.1.0->mtcnn) (1.21.5)\n",
      "Installing collected packages: opencv-python, keras, mtcnn\n",
      "Successfully installed keras-2.12.0 mtcnn-0.1.1 opencv-python-4.7.0.72\n"
     ]
    }
   ],
   "source": [
    "!pip install mtcnn"
   ]
  },
  {
   "cell_type": "code",
   "execution_count": null,
   "metadata": {
    "execution": {
     "iopub.execute_input": "2023-03-26T13:59:39.634645Z",
     "iopub.status.busy": "2023-03-26T13:59:39.633088Z",
     "iopub.status.idle": "2023-03-26T13:59:47.738108Z",
     "shell.execute_reply": "2023-03-26T13:59:47.736805Z",
     "shell.execute_reply.started": "2023-03-26T13:59:39.634598Z"
    }
   },
   "outputs": [],
   "source": [
    "import numpy as np \n",
    "import pandas as pd \n",
    "import cv2\n",
    "import os\n",
    "from mtcnn.mtcnn import MTCNN\n",
    "from matplotlib import pyplot as plt\n",
    "from keras.models import load_model"
   ]
  },
  {
   "cell_type": "code",
   "execution_count": 67,
   "metadata": {
    "execution": {
     "iopub.execute_input": "2023-03-26T14:51:45.706837Z",
     "iopub.status.busy": "2023-03-26T14:51:45.706397Z",
     "iopub.status.idle": "2023-03-26T14:51:50.395778Z",
     "shell.execute_reply": "2023-03-26T14:51:50.394728Z",
     "shell.execute_reply.started": "2023-03-26T14:51:45.706800Z"
    }
   },
   "outputs": [],
   "source": [
    "facenet=load_model('Jupyter/Photo-Clusterer-Project/Facenet-Model/facenet_keras.h5')\n",
    "detector_grp=MTCNN(min_face_size = 10,\n",
    "                   steps_threshold = [0.4,0.5,0.5],\n",
    "                   scale_factor = 0.5)\n",
    "detector_single=MTCNN(\n",
    "    steps_threshold = [0.7,0.8,0.8],\n",
    "    scale_factor= 0.8)"
   ]
  },
  {
   "cell_type": "code",
   "execution_count": 84,
   "metadata": {
    "execution": {
     "iopub.execute_input": "2023-03-26T15:05:00.080871Z",
     "iopub.status.busy": "2023-03-26T15:05:00.079778Z",
     "iopub.status.idle": "2023-03-26T15:05:00.095818Z",
     "shell.execute_reply": "2023-03-26T15:05:00.094783Z",
     "shell.execute_reply.started": "2023-03-26T15:05:00.080823Z"
    }
   },
   "outputs": [],
   "source": [
    "s=np.load('Jupyter/Photo-Clusterer-Project/Embedds_of_dataset/data.npy',allow_pickle=True)\n",
    "photos_embedd_dict=s[()]"
   ]
  },
  {
   "cell_type": "code",
   "execution_count": 72,
   "metadata": {
    "execution": {
     "iopub.execute_input": "2023-03-26T14:53:37.819655Z",
     "iopub.status.busy": "2023-03-26T14:53:37.819210Z",
     "iopub.status.idle": "2023-03-26T14:53:37.828190Z",
     "shell.execute_reply": "2023-03-26T14:53:37.826716Z",
     "shell.execute_reply.started": "2023-03-26T14:53:37.819614Z"
    }
   },
   "outputs": [],
   "source": [
    "\n",
    "def faces_extracter(img,grp_or_single='single'):\n",
    "    \n",
    "    if grp_or_single == 'grp':\n",
    "        face_box=detector_grp.detect_faces(img)\n",
    "    else:\n",
    "        face_box=detector_single.detect_faces(img)\n",
    "       \n",
    "    embedd_faces=[]\n",
    "    \n",
    "    for i in range(len(face_box)):\n",
    "        \n",
    "        x1,y1,w,h=face_box[i]['box']\n",
    "        cropped_face=img[y1:y1+h,x1:x1+w]\n",
    "        cropped_face=cv2.resize(cropped_face,(160,160))\n",
    "        cropped_face=cropped_face/255\n",
    "        X=np.expand_dims(cropped_face,axis=0)\n",
    "        embedd=facenet.predict(X,batch_size=3)\n",
    "        embedd_faces.append(embedd)\n",
    "        \n",
    "    return embedd_faces"
   ]
  },
  {
   "cell_type": "code",
   "execution_count": null,
   "metadata": {},
   "outputs": [],
   "source": [
    "#create empty array\n",
    "#photos_embedd_dict=dict()\n",
    "\n",
    "# This step is runned already and \"photos_embedd_dict\" dictionary is created\n",
    "# We can directly load the file from cell number 4\n",
    "'''\n",
    "for i in os.listdir('Jupyter/Photo-Clusterer-Project/Images'):\n",
    "    path='/Jupyter/Photo-Clusterer-Project/Images/'+str(i)\n",
    "    img=cv2.imread(path)\n",
    "    list_of_faces=faces_extracter(img,'grp')\n",
    "    photos_embedd_dict['/Jupyter/Photo-Clusterer-Project/Images/'+str(i)]=list_of_faces\n",
    "    \n",
    "np.save('data',photos_embedd_dict)\n",
    "'''"
   ]
  },
  {
   "cell_type": "code",
   "execution_count": null,
   "metadata": {},
   "outputs": [],
   "source": []
  },
  {
   "cell_type": "code",
   "execution_count": 85,
   "metadata": {
    "execution": {
     "iopub.execute_input": "2023-03-26T15:05:10.641946Z",
     "iopub.status.busy": "2023-03-26T15:05:10.641529Z",
     "iopub.status.idle": "2023-03-26T15:05:10.650728Z",
     "shell.execute_reply": "2023-03-26T15:05:10.649226Z",
     "shell.execute_reply.started": "2023-03-26T15:05:10.641909Z"
    }
   },
   "outputs": [],
   "source": [
    "def photo_extracter(selfie):    \n",
    "    selfie_input='/Jupyter/Photo-Clusterer-Project/Selfie/' + str(selfie)\n",
    "    selfie_input=cv2.imread(selfie_input)\n",
    "    selfie_embedd=faces_extracter(selfie_input)\n",
    "    selfie_embedd=selfie_embedd[0][0]\n",
    "    \n",
    "\n",
    "    for i in photos_embedd_dict:\n",
    "        for j in range(len(photos_embedd_dict[i])):\n",
    "            embd=photos_embedd_dict[i][j][0]\n",
    "            result=np.dot(embd,selfie_embedd) / (np.linalg.norm(embd) * np.linalg.norm(selfie_embedd))\n",
    "            \n",
    "            if result > 0.68:\n",
    "                display_image=cv2.imread(i)\n",
    "                plt.imshow(display_image)\n",
    "                plt.show()\n",
    "                break\n",
    "            "
   ]
  },
  {
   "cell_type": "code",
   "execution_count": null,
   "metadata": {
    "execution": {
     "iopub.execute_input": "2023-03-26T15:05:28.578107Z",
     "iopub.status.busy": "2023-03-26T15:05:28.577565Z",
     "iopub.status.idle": "2023-03-26T15:05:37.903553Z",
     "shell.execute_reply": "2023-03-26T15:05:37.902255Z",
     "shell.execute_reply.started": "2023-03-26T15:05:28.578053Z"
    }
   },
   "outputs": [],
   "source": []
  },
  {
   "cell_type": "code",
   "execution_count": null,
   "metadata": {},
   "outputs": [],
   "source": [
    "# Enter your selfie here\n",
    "\n",
    "selfie=input('Enter your selfie file here')\n",
    "\n",
    "photo_extracter(selfie)"
   ]
  },
  {
   "cell_type": "code",
   "execution_count": null,
   "metadata": {},
   "outputs": [],
   "source": []
  }
 ],
 "metadata": {
  "kernelspec": {
   "display_name": "Python 3 (ipykernel)",
   "language": "python",
   "name": "python3"
  },
  "language_info": {
   "codemirror_mode": {
    "name": "ipython",
    "version": 3
   },
   "file_extension": ".py",
   "mimetype": "text/x-python",
   "name": "python",
   "nbconvert_exporter": "python",
   "pygments_lexer": "ipython3",
   "version": "3.9.12"
  }
 },
 "nbformat": 4,
 "nbformat_minor": 4
}
